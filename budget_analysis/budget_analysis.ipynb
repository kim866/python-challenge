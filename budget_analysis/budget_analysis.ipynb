{
 "cells": [
  {
   "cell_type": "code",
   "execution_count": 1,
   "metadata": {},
   "outputs": [],
   "source": [
    "#Dependencies\n",
    "import csv"
   ]
  },
  {
   "cell_type": "code",
   "execution_count": 2,
   "metadata": {},
   "outputs": [],
   "source": [
    "#Loading the CSV file\n",
    "budget_data_csv = \"Resources/budget_data.csv\""
   ]
  },
  {
   "cell_type": "code",
   "execution_count": 3,
   "metadata": {},
   "outputs": [],
   "source": [
    "#Tracking parameters\n",
    "months = []\n",
    "profits_or_losses = []\n",
    "net_profit = 0\n",
    "\n",
    "#Reading the CSV file & converting into a list of dictionaries\n",
    "with open(budget_data_csv) as budget_data:\n",
    "    reader = csv.reader(budget_data)\n",
    "    \n",
    "    # Skiping the header row\n",
    "    next(reader)\n",
    "\n",
    "    #Looping through the each row\n",
    "    \n",
    "    for row in reader:\n",
    "        months.append(row[0])\n",
    "        net_profit = net_profit + int(row[1])\n",
    "        profits_or_losses.append(row[1])"
   ]
  },
  {
   "cell_type": "code",
   "execution_count": 5,
   "metadata": {},
   "outputs": [],
   "source": [
    "#Declaring variables\n",
    "total_months = len(months)\n",
    "average_change = round(net_profit/total_months, 2)\n",
    "highest_profit = max(profits_or_losses)\n",
    "highest_loss = min(profits_or_losses)\n",
    "\n",
    "months_profits_or_losses = dict(zip(profits_or_losses, months))\n",
    "month_highest_profit = months_profits_or_losses[highest_profit]\n",
    "month_highest_loss = months_profits_or_losses[highest_loss]"
   ]
  },
  {
   "cell_type": "code",
   "execution_count": 18,
   "metadata": {},
   "outputs": [
    {
     "name": "stdout",
     "output_type": "stream",
     "text": [
      "Financial Analysis\n",
      "------------------------------\n",
      "Total Months: 86\n",
      "Total: $38382578\n",
      "Average Change: $446309.05\n",
      "Greatest Increase in Profits: Aug-2013 ($999942)\n",
      "Greatest Decrease in Profits: Aug-2012 ($-1022534)\n"
     ]
    }
   ],
   "source": [
    "#Printing the results\n",
    "\n",
    "print(\"Financial Analysis\")\n",
    "print(\"------------------------------\")\n",
    "print(\"Total Months: \"+ str(total_months))\n",
    "print(\"Total: $\"+str(net_profit))\n",
    "print(\"Average Change: $\"+str(average_change))\n",
    "print(\"Greatest Increase in Profits: \"+month_highest_profit+\" ($\"+highest_profit+\")\")\n",
    "print(\"Greatest Decrease in Profits: \"+month_highest_loss+\" ($\"+highest_loss+\")\")\n"
   ]
  },
  {
   "cell_type": "code",
   "execution_count": 19,
   "metadata": {},
   "outputs": [],
   "source": [
    "#Exporting the results to a text file\n",
    "\n",
    "f= open(\"budget_analysis.txt\",\"w+\")\n",
    "f= open(\"budget_analysis.txt\",\"a+\")\n",
    "f.write(\"Financial Analysis\"  + \"\\n\") \n",
    "f.write(\"----------------------------\"  + \"\\n\")     \n",
    "f.write(f\"Total Months: {str(total_months)}\"  + \"\\n\")\n",
    "f.write(f\"Total: ${str(net_profit)}\"  + \"\\n\")\n",
    "f.write(f\"Average Change: ${str(average_change)}\" + \"\\n\")\n",
    "f.write(f\"Greatest Increase in Profits: {month_highest_profit} (${highest_profit})\" + \"\\n\")\n",
    "f.write(f\"Greatest Decrease in Profits: {month_highest_loss} (${highest_loss})\") \n",
    "f.close()"
   ]
  }
 ],
 "metadata": {
  "kernelspec": {
   "display_name": "Python 3",
   "language": "python",
   "name": "python3"
  },
  "language_info": {
   "codemirror_mode": {
    "name": "ipython",
    "version": 3
   },
   "file_extension": ".py",
   "mimetype": "text/x-python",
   "name": "python",
   "nbconvert_exporter": "python",
   "pygments_lexer": "ipython3",
   "version": "3.7.2"
  }
 },
 "nbformat": 4,
 "nbformat_minor": 2
}
